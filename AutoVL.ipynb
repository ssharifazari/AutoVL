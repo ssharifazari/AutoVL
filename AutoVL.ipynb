{
  "cells": [
    {
      "cell_type": "markdown",
      "metadata": {
        "id": "view-in-github",
        "colab_type": "text"
      },
      "source": [
        "<a href=\"https://colab.research.google.com/github/ssharifazari/Baseflow-project/blob/main/AutoVL.ipynb\" target=\"_parent\"><img src=\"https://colab.research.google.com/assets/colab-badge.svg\" alt=\"Open In Colab\"/></a>"
      ]
    },
    {
      "cell_type": "markdown",
      "metadata": {
        "id": "0RW-h3WQC-ej"
      },
      "source": [
        "# **AutoVL**\n",
        "A Python script to apply AutoVL (Automated Variable Leak) developed by Vincent Lyne (2025).\n",
        "\n",
        "Citation:\n",
        "\n",
        "Vincent Lyne. \"AutoVL: Automated streamflow separation for changing catchments and climate impact analysis.\" Journal of Hydrology X 26 (2025): 100195\n",
        "https://doi.org/10.1016/j.hydroa.2024.100195"
      ]
    },
    {
      "cell_type": "markdown",
      "metadata": {
        "id": "CU6rPtYaC-en"
      },
      "source": [
        "## **Create required functions**\n",
        "This section creates required functions to apply AutoVL algorithm and an additional one for plotting:\n",
        "\n",
        "initial_alph(y) calculates an initial value for `alpha` from the given discharge `y`. The initial `alpha` is calculated as follows:\n",
        " 1. Prepare the values of `Q` to build a linear model in the form of y_t = alpha * y_(t-1).\n",
        " 2. Fit the linear model to obtain the value of alpha and return it as an alpha_initial.\n",
        "\n",
        "VL_splitter(y, alpha) calculates the fastflow `f_t` and baseflow `b_t` component from the given discharge `y` and parameter `alpha`\n",
        "\n",
        " The calculation is as follows:\n",
        " 1. Set the initial value for f to start: f_1 = y_1\n",
        " 2. Calculate fastflow components: f_t = alpha*f_t_1 + (y_t - y_t_1)\n",
        " 3. Check if the calculate f_t is smaller than y_t\n",
        " 4. Calculate the baseflow component: b_t = y_t - f_t\n",
        " 5. Check if the calculated b_t is smaller than y_t\n",
        " 6. Check if all flow components are positive\n",
        "\n",
        " baseflow_decay(y, f, b) calculates the values of `alpha_f`, `alpha_b`, and `beta` from the given discharge `y`, fastflow `f`, and baseflow `b` series based on the baseflow decay model\n",
        "\n",
        "1. Obtain the value of `alpha_f` from fitting a linear model in the form of: f_t = alpha_f*f_t_1 + (y_t - y_t_1)\n",
        "2. Obtain values of `alpha_b` and `beta` from fitting a linear model in the form of: b_t = alpha_b*b_t_1 + alpha_f*f_t_1\n",
        "3. Set `alpha` as the maximum value between `alpha_f` and `alpha_b` to be used in the VL_splitter in the next step\n"
      ]
    },
    {
      "cell_type": "code",
      "execution_count": null,
      "metadata": {
        "id": "jifu8JD_C-eo"
      },
      "outputs": [],
      "source": [
        "def initial_alph(y):\n",
        "    \"\"\"\n",
        "    Args:\n",
        "        y (numpy.ndarray): Array of discharge values.\n",
        "\n",
        "    Returns:\n",
        "        float: The calculated recession coefficient.\n",
        "    \"\"\"\n",
        "    y = y[0]\n",
        "    y_t, y_t_1 = y[1:], y[:-1]\n",
        "    y_pos = list()\n",
        "    for t in range(len(y_t)):\n",
        "        if y_t_1[t] >= y_t[t]:\n",
        "            y_pos.append(t)\n",
        "\n",
        "    # LinReg = np.polyfit(y_t_1[q_pos], y_t[q_pos], 1)\n",
        "    LinReg = sm.OLS(y_t[y_pos], y_t_1[y_pos])\n",
        "    alpha_init = LinReg.fit().params[0]\n",
        "\n",
        "    return alpha_init\n",
        "\n",
        "def VL_splitter(y, alpha):\n",
        "    \"\"\"\n",
        "    Args:\n",
        "        Q (numpy.ndarray): Array of discharge values.\n",
        "        alpha (numpy.ndarray)\n",
        "\n",
        "    Returns:\n",
        "        f (numpy.ndarray): The calculated fastflow component.\n",
        "        b (numpy.ndarray): The calculated baseflow component.\n",
        "    \"\"\"\n",
        "    y = y[0]\n",
        "    f = list()\n",
        "    f.append(y[0])\n",
        "    b = [0]\n",
        "    for t in range(1, len(y)):\n",
        "\n",
        "        f.append((alpha*f[t-1] + (y[t] - y[t-1])).item())\n",
        "        if f[t] > y[t]:\n",
        "            f[t] = y[t]\n",
        "        elif f[t] < 0:\n",
        "            f[t] = 0\n",
        "\n",
        "        b.append((y[t] - f[t]).item())\n",
        "        if b[t] > y[t]:\n",
        "            b[t] = y[t]\n",
        "    return f, b\n",
        "\n",
        "def baseflow_decay(y, f, b):\n",
        "    \"\"\"\n",
        "    Args:\n",
        "        y (numpy.ndarray): Array of discharge values.\n",
        "        f (numpy.ndarray): list of discharge values.\n",
        "        b (numpy.ndarray): list of discharge values.\n",
        "\n",
        "    Returns:\n",
        "        alpha_f (numpy.ndarray): float.\n",
        "        alpha_f (numpy.ndarray): float.\n",
        "        betha (numpy.ndarray): float.\n",
        "        alpha (numpy.ndarray): float.\n",
        "\n",
        "    \"\"\"\n",
        "    y = y[0]\n",
        "    y_t, y_t_1 = y[1:], y[:-1]\n",
        "    f_t, f_t_1 = f[1:], f[:-1]\n",
        "    b_t, b_t_1 = b[1:], b[:-1]\n",
        "\n",
        "    Y = f_t - (y_t - y_t_1)\n",
        "    LinReg = sm.OLS(Y, f_t_1)\n",
        "    alpha_f = LinReg.fit().params[0]\n",
        "\n",
        "    X = np.column_stack((b_t_1, f_t_1))\n",
        "    LinReg = sm.OLS(b_t, X)\n",
        "    alpha_b = LinReg.fit().params[0]\n",
        "    beta = LinReg.fit().params[1]\n",
        "\n",
        "    return alpha_f, alpha_b, beta\n",
        "\n",
        "# Visualization function\n",
        "def plot_baseflow_separation(Q, baseflows, method_names=None, interactive=False):\n",
        "    if method_names is None:\n",
        "        method_names = list(baseflows.keys())\n",
        "\n",
        "    if interactive:\n",
        "        fig = make_subplots()\n",
        "        fig.add_trace(go.Scatter(x=Q.index, y=Q.values, name='Streamflow', line=dict(width=2)))\n",
        "\n",
        "        for method in method_names:\n",
        "            if method in baseflows:\n",
        "                fig.add_trace(go.Scatter(x=Q.index, y=baseflows[method], name=f'{method} Baseflow'))\n",
        "\n",
        "        fig.update_layout(\n",
        "            title='Baseflow Separation',\n",
        "            xaxis_title='Date',\n",
        "            yaxis_title='Flow',\n",
        "            legend_title='Methods',\n",
        "            hovermode=\"x unified\",\n",
        "            width=1100,\n",
        "            height=600\n",
        "        )\n",
        "\n",
        "        return fig\n",
        "    else:\n",
        "        plt.figure(figsize=(12, 6))\n",
        "        plt.plot(Q.index, Q.values, label='Observed Streamflow', alpha=0.7)\n",
        "\n",
        "        for method in method_names:\n",
        "            if method in baseflows:\n",
        "                plt.plot(Q.index, baseflows[method], label=f'{method} Baseflow', alpha=0.7)\n",
        "\n",
        "        plt.xlabel('Date')\n",
        "        plt.ylabel('Flow')\n",
        "        plt.title('Baseflow Separation')\n",
        "        plt.legend()\n",
        "        plt.grid(True)\n",
        "\n",
        "        return plt.gcf()"
      ]
    },
    {
      "cell_type": "markdown",
      "metadata": {
        "id": "VDtRySQeC-eq"
      },
      "source": [
        "## **Install and import relevant packages**\n",
        "baseflow is a Python package that allows baseflow separation using a number of graphical and digital filter methods. This package offers a wide range of tools and techniques for streamflow data analysis, with detailed explanation is given in: https://baseflow.readthedocs.io/en/latest/\n",
        "    \n",
        "Citation:\n",
        "\n",
        "Xie, J., Liu, X., Jasechko, S., Berghuijs, W. R., Wang, K., Liu, C., Reichstein, M., Jung, M., & Koirala, S. (2024). Majority of global river flow sustained by groundwater. Nature Geoscience, 17(8), 770–777. https://doi.org/10.1038/s41561-024-01483-5\n",
        "\n",
        "Xie, J., Liu, X., Wang, K., Yang, T., Liang, K., & Liu, C. (2020). Evaluation of typical methods for baseflow separation in the contiguous United States. Journal of Hydrology, 583, 124628. https://doi.org/10.1016/j.jhydrol.2020.124628"
      ]
    },
    {
      "cell_type": "code",
      "execution_count": null,
      "metadata": {
        "id": "hgNSU9xvC-eq",
        "outputId": "4b87fff6-a7dc-4779-f499-645d964bf855",
        "colab": {
          "base_uri": "https://localhost:8080/"
        },
        "collapsed": true
      },
      "outputs": [
        {
          "output_type": "stream",
          "name": "stdout",
          "text": [
            "Requirement already satisfied: baseflow in /usr/local/lib/python3.11/dist-packages (0.0.9)\n",
            "Requirement already satisfied: numpy in /usr/local/lib/python3.11/dist-packages (from baseflow) (1.26.4)\n",
            "Requirement already satisfied: numba in /usr/local/lib/python3.11/dist-packages (from baseflow) (0.61.0)\n",
            "Requirement already satisfied: tqdm in /usr/local/lib/python3.11/dist-packages (from baseflow) (4.67.1)\n",
            "Requirement already satisfied: pandas in /usr/local/lib/python3.11/dist-packages (from baseflow) (2.2.2)\n",
            "Requirement already satisfied: llvmlite<0.45,>=0.44.0dev0 in /usr/local/lib/python3.11/dist-packages (from numba->baseflow) (0.44.0)\n",
            "Requirement already satisfied: python-dateutil>=2.8.2 in /usr/local/lib/python3.11/dist-packages (from pandas->baseflow) (2.8.2)\n",
            "Requirement already satisfied: pytz>=2020.1 in /usr/local/lib/python3.11/dist-packages (from pandas->baseflow) (2025.1)\n",
            "Requirement already satisfied: tzdata>=2022.7 in /usr/local/lib/python3.11/dist-packages (from pandas->baseflow) (2025.1)\n",
            "Requirement already satisfied: six>=1.5 in /usr/local/lib/python3.11/dist-packages (from python-dateutil>=2.8.2->pandas->baseflow) (1.17.0)\n",
            "Requirement already satisfied: statsmodels in /usr/local/lib/python3.11/dist-packages (0.14.4)\n",
            "Requirement already satisfied: numpy<3,>=1.22.3 in /usr/local/lib/python3.11/dist-packages (from statsmodels) (1.26.4)\n",
            "Requirement already satisfied: scipy!=1.9.2,>=1.8 in /usr/local/lib/python3.11/dist-packages (from statsmodels) (1.13.1)\n",
            "Requirement already satisfied: pandas!=2.1.0,>=1.4 in /usr/local/lib/python3.11/dist-packages (from statsmodels) (2.2.2)\n",
            "Requirement already satisfied: patsy>=0.5.6 in /usr/local/lib/python3.11/dist-packages (from statsmodels) (1.0.1)\n",
            "Requirement already satisfied: packaging>=21.3 in /usr/local/lib/python3.11/dist-packages (from statsmodels) (24.2)\n",
            "Requirement already satisfied: python-dateutil>=2.8.2 in /usr/local/lib/python3.11/dist-packages (from pandas!=2.1.0,>=1.4->statsmodels) (2.8.2)\n",
            "Requirement already satisfied: pytz>=2020.1 in /usr/local/lib/python3.11/dist-packages (from pandas!=2.1.0,>=1.4->statsmodels) (2025.1)\n",
            "Requirement already satisfied: tzdata>=2022.7 in /usr/local/lib/python3.11/dist-packages (from pandas!=2.1.0,>=1.4->statsmodels) (2025.1)\n",
            "Requirement already satisfied: six>=1.5 in /usr/local/lib/python3.11/dist-packages (from python-dateutil>=2.8.2->pandas!=2.1.0,>=1.4->statsmodels) (1.17.0)\n"
          ]
        }
      ],
      "source": [
        "%pip install baseflow\n",
        "%pip install statsmodels"
      ]
    },
    {
      "cell_type": "code",
      "execution_count": null,
      "metadata": {
        "id": "cT-LPY7IC-er"
      },
      "outputs": [],
      "source": [
        "import matplotlib.pyplot as plt\n",
        "import  os\n",
        "import pandas as pd\n",
        "import numpy as np\n",
        "import statsmodels.api as sm\n",
        "import plotly.graph_objects as go\n",
        "from plotly.subplots import make_subplots\n",
        "import baseflow"
      ]
    },
    {
      "cell_type": "markdown",
      "metadata": {
        "id": "ih9IXbNnC-er"
      },
      "source": [
        "# **Load and clean example Q data**\n",
        "This code loads example streamflow data (Q). Daily streamflow data including, the example data provided by the baseflow library, flow records for Cockburn catchment (NSW419016; 2006-2012), and Harvy River at dingo road (WA613002; 1970-2023) are given in three separate CSV files. The data cleaning function used here from baseflow package facilitates the process of fixing or removing incorrect, corrupted, incorrectly formatted, duplicate, or incomplete data within a dataset.\n",
        "\n",
        "Here are the steps involved:\n",
        "\n",
        "\n",
        "*   Identify Errors: Examine the dataset for issues like missing values, outliers, inconsistencies, or incorrect formatting.\n",
        "*   Handle Missing Data: drop the NaN values\n",
        "*   Standardize Formatting: Ensure consistent formatting across the dataset for dates, numbers, text, etc.\n",
        "*   Check data quality: only keep the data of more than 120 days/year record\n",
        "\n",
        "Other CSV file in the correct format can also be uploaded to the example data folder."
      ]
    },
    {
      "cell_type": "code",
      "execution_count": null,
      "metadata": {
        "id": "H_iLLWrnC-es"
      },
      "outputs": [],
      "source": [
        "# CSV file for provided by baseflow package\n",
        "#df = pd.read_csv(baseflow.example, index_col=0, parse_dates=True)\n",
        "\n",
        "# CSV file for Cockburn River at Mulla Crossing, NSW, station: 419016\n",
        "df = pd.read_csv('example data/Hydstra_419016_151.csv', index_col = 0, parse_dates = True, dayfirst = True)\n",
        "\n",
        "# CSV file for Harvy River at Dingo Road, WA, BOM station: 613002. If you reproduce Vincent Lyne (2025)'s results\n",
        "#df = pd.read_csv('example data/HarvyRiver_613002.csv', index_col = 0, parse_dates = True, dayfirst = True)\n",
        "\n",
        "Q = df[df.columns[0]]\n",
        "#df_1973 = df.loc['1973']\n",
        "#Q = df[df_1973.columns[0]]\n",
        "Q"
      ]
    },
    {
      "cell_type": "code",
      "execution_count": 75,
      "metadata": {
        "id": "-m-tzNeRC-es"
      },
      "outputs": [],
      "source": [
        "import baseflow.utils\n",
        "Q = baseflow.utils.clean_streamflow(Q)"
      ]
    },
    {
      "cell_type": "markdown",
      "metadata": {
        "id": "zdN4MqfSC-et"
      },
      "source": [
        "# **Baseflow separation**\n",
        "In this part AutoVal algorithm and other digital filter methods will first be applied to the loaded time series"
      ]
    },
    {
      "cell_type": "markdown",
      "metadata": {
        "id": "8dMNu7e2C-et"
      },
      "source": [
        "## **AutoVL method**\n",
        "To start the algorithm an initial value will be estimated for `alpha` and empty lists will be allocated to fastflow and baseflow comonents. The while loop will then be repeated to satisfy the threshold sepcified for the difference between two subsequent `alpha` values"
      ]
    },
    {
      "cell_type": "code",
      "execution_count": 76,
      "metadata": {
        "id": "K-fiJMq9C-et"
      },
      "outputs": [],
      "source": [
        "def extract_years_data(Q, years):\n",
        "    # Get the indices where the year matches any in the list of years\n",
        "\n",
        "    if isinstance(years, int):\n",
        "            years = [years]\n",
        "\n",
        "    indices = [i for i in range(len(Q[1])) if Q[1][i].year in years]\n",
        "\n",
        "    # Use the indices to filter both values and dates\n",
        "    values_for_years = Q[0][indices]\n",
        "    dates_for_years = Q[1][indices]\n",
        "\n",
        "    # Return the filtered data as a tuple\n",
        "    return (values_for_years, dates_for_years)"
      ]
    },
    {
      "cell_type": "code",
      "execution_count": 77,
      "metadata": {
        "id": "0wV4X_bWC-et"
      },
      "outputs": [],
      "source": [
        "def AutVL(q, alpha, delta_alpha, year):\n",
        "\n",
        "   Alpha_tmp = []\n",
        "   Alpha_f_tmp = []\n",
        "   Alpha_b_tmp = []\n",
        "   Beta_tmp = []\n",
        "   params = dict()\n",
        "   while True:\n",
        "       # run the VL splitter to obtain f and b\n",
        "       f, b = VL_splitter(q, alpha)\n",
        "\n",
        "       # run the baseflow decay model\n",
        "       alpha_f, alpha_b, beta = baseflow_decay(q, f, b)\n",
        "\n",
        "       # set `alpha` as the maximum value between `alpha_f` and `alpha_b`\n",
        "       alpha_new = max([alpha_f, alpha_b])\n",
        "       delta_alpha_tmp = abs(alpha_new - alpha)\n",
        "       alpha = alpha_new\n",
        "\n",
        "       # store the parameters in the pre-allocated lists\n",
        "       Alpha_tmp.append(alpha)\n",
        "       Alpha_f_tmp.append(alpha_f)\n",
        "       Alpha_b_tmp.append(alpha_b)\n",
        "       Beta_tmp.append(beta)\n",
        "\n",
        "       if delta_alpha_tmp < delta_alpha:\n",
        "           break\n",
        "\n",
        "   params = {\n",
        "       \"Alpha\": {\"values\": Alpha_tmp},\n",
        "       \"Alpha_f\" : {\"values\": Alpha_f_tmp},\n",
        "       \"Alpha_b\" : {\"values\": Alpha_b_tmp},\n",
        "       \"Beta\" : {\"values\": Beta_tmp}\n",
        "       }\n",
        "   bf_AutoVL = {'AutoVL': b}\n",
        "   return params, bf_AutoVL\n"
      ]
    },
    {
      "cell_type": "code",
      "execution_count": 78,
      "metadata": {
        "id": "mdfopMGbC-et"
      },
      "outputs": [],
      "source": [
        "# Initialization for AutoVL method\n",
        "dates = Q[1]\n",
        "delta_alpha = 1e-4\n",
        "uniqe_years = dates.year.unique()\n",
        "\n",
        "# Define the length of the moving window\n",
        "window_size = 1\n",
        "\n",
        "# Pre-allocate a dictionary to the resulted baseflows\n",
        "baseflows = dict()"
      ]
    },
    {
      "cell_type": "markdown",
      "metadata": {
        "id": "sFvFI-YTC-eu"
      },
      "source": [
        "## **Comparsion between methods**\n",
        "Baseflow series from different methods, including AutoVL, will be calculated from the original series in this section."
      ]
    },
    {
      "cell_type": "code",
      "execution_count": 79,
      "metadata": {
        "id": "9W8FWmkcC-eu"
      },
      "outputs": [],
      "source": [
        "# Loop through the data to obtain baseflows\n",
        "param_AutoVL = {}\n",
        "for year in uniqe_years:\n",
        "\n",
        "    # extract subset of the data\n",
        "    q = extract_years_data(Q, year)\n",
        "    alpha = initial_alph(q)\n",
        "\n",
        "    # AutoVL\n",
        "    params, bf_AutoVL = AutVL(q, alpha, delta_alpha, year)\n",
        "\n",
        "    # Apply methods from baseflow Python package. This includes original Lyne & Holick (1979),\n",
        "    #  Chapman (1991), Furey and Gupta (2000), Eckhardt (2005), and EWMA methods.\n",
        "    # Extract flow values from q to be used in baseflow package\n",
        "    q_values, _ = q\n",
        "\n",
        "    # Lyne-Holick 1979\n",
        "    bf_lh = baseflow.LH(q_values,beta=0.925, return_exceed=False)\n",
        "\n",
        "    # Champan 1991\n",
        "    a = 0.98  # Assumed recession coefficient\n",
        "    bf_chapman = {'Chapman': baseflow.Chapman(q_values, bf_lh, a, return_exceed=False),}\n",
        "\n",
        "    # Furey and Gupta 2001\n",
        "    A = 0.1 # Assumed parameter A\n",
        "    bf_furey = {'Furey': baseflow.Furey(q_values, bf_lh, a, A, return_exceed=False),}\n",
        "\n",
        "    # Eckhardt 2005\n",
        "    BFImax = 0.8  # Assumed parameter BFImax\n",
        "    bf_eckhardt = {'Eckhardt': baseflow.Eckhardt(q_values, bf_lh, a, BFImax, return_exceed=False),}\n",
        "\n",
        "    # EMWA 2008\n",
        "    e = 0.2  # Assumed parameter e\n",
        "    bf_ewma = {'EWMA': baseflow.EWMA(q_values, bf_lh, a, e, return_exceed=False),}\n",
        "\n",
        "    bf_lh = {'Lyne Hollick': baseflow.LH(q_values,beta=0.925, return_exceed=False), }\n",
        "\n",
        "    baseflows[year] = {'Lyne Hollick': bf_lh['Lyne Hollick'],\n",
        "               'Chapman': bf_chapman['Chapman'],\n",
        "               'Eckhardt': bf_eckhardt['Eckhardt'],\n",
        "               'EWMA': bf_ewma['EWMA'],\n",
        "               'Furey': bf_furey['Furey'],\n",
        "               'AutoVL': bf_AutoVL['AutoVL'],\n",
        "               }\n",
        "    param_AutoVL[year] = params\n",
        "\n"
      ]
    },
    {
      "cell_type": "markdown",
      "source": [
        "Calculate and display baseflow index (BFI) for different methods:"
      ],
      "metadata": {
        "id": "GE47atEI00l3"
      }
    },
    {
      "cell_type": "code",
      "source": [
        "# Create an empty dictionary to store the combined data for each method\n",
        "combined_data = {}\n",
        "\n",
        "# Loop through all years in the dictionary\n",
        "for year, methods in baseflows.items():\n",
        "    for method_name, method_data in methods.items():\n",
        "        # Flatten the data (if it's nested) and append it to the combined_data dictionary\n",
        "        flattened_data = [item for sublist in method_data for item in sublist] if isinstance(method_data[0], list) else method_data\n",
        "        if method_name not in combined_data:\n",
        "            combined_data[method_name] = []\n",
        "        combined_data[method_name].extend(flattened_data)\n",
        "\n",
        "# Create a DataFrame from the combined_data dictionary\n",
        "baseflows_df = pd.DataFrame(dict([(key, pd.Series(value)) for key, value in combined_data.items()]))\n",
        "baseflows_df.insert(0, \"Q\", Q[0])  # Add tuple values as the first column\n",
        "baseflows_df.index = Q[1]\n",
        "\n",
        "# Create and display the BFI DataFrame\n",
        "BFI = baseflows_df.iloc[:, 1:].sum()/baseflows_df['Q'].sum()\n",
        "BFI = pd.DataFrame( [BFI.values], columns=BFI.index, index=['BFI'])\n",
        "print(BFI.round(3))"
      ],
      "metadata": {
        "id": "OEXo5Ntx5sPU"
      },
      "execution_count": null,
      "outputs": []
    },
    {
      "cell_type": "markdown",
      "metadata": {
        "id": "xFor6P26C-eu"
      },
      "source": [
        "## **Visualization**\n",
        "In this part the resulted baseflow from different methods will be plotted against ech other for the desired year. The convergence of AutoVL parameters will be also plotted in a separate figure."
      ]
    },
    {
      "cell_type": "code",
      "execution_count": null,
      "metadata": {
        "id": "mFrd0oqCC-eu"
      },
      "outputs": [],
      "source": [
        "# Plotting\n",
        "year = int(input(\"Enter the year of interest for plotting: {year}\"))\n",
        "q = extract_years_data(Q, year)\n",
        "qq = pd.Series(data=q[0], index=q[1], name = df.columns[0])\n",
        "fig = plot_baseflow_separation(qq, baseflows[year], ['Lyne Hollick', 'Chapman', 'Eckhardt', 'EWMA', 'Furey', 'AutoVL'], interactive = True)\n",
        "fig.show()"
      ]
    },
    {
      "cell_type": "code",
      "execution_count": null,
      "metadata": {
        "id": "UWv-WqdUC-eu"
      },
      "outputs": [],
      "source": [
        "# AutoVL parameter convergence\n",
        "Alpha = [float(i) for i in param_AutoVL[year]['Alpha']['values']]\n",
        "Alpha_f = [float(i) for i in param_AutoVL[year]['Alpha_f']['values']]\n",
        "Alpha_b = [float(i) for i in param_AutoVL[year]['Alpha_b']['values']]\n",
        "Beta = [float(i) for i in param_AutoVL[year]['Beta']['values']]\n",
        "itr = list(range(0, len(Alpha)))\n",
        "\n",
        "plt.plot(itr, Alpha_f, 'r--', itr, Alpha_b, 'b--', itr, Beta, 'g--')\n",
        "plt.xlabel('Iteration')\n",
        "plt.ylabel('Coefficient')"
      ]
    },
    {
      "cell_type": "markdown",
      "metadata": {
        "id": "l08UmjzqC-eu"
      },
      "source": [
        "## **Climate impact on AutoVL parameters**\n",
        "The impact of climate will be evaluated by plotting the obtained value for each parameter in different years"
      ]
    },
    {
      "cell_type": "code",
      "execution_count": null,
      "metadata": {
        "id": "lPehDgEfC-eu"
      },
      "outputs": [],
      "source": [
        "ALPHA = [param_AutoVL[year]['Alpha']['values'][-1] for year in uniqe_years]\n",
        "ALPHA_f = [param_AutoVL[year]['Alpha_f']['values'][-1] for year in uniqe_years]\n",
        "ALPHA_b = [param_AutoVL[year]['Alpha_b']['values'][-1] for year in uniqe_years]\n",
        "BETA = [param_AutoVL[year]['Beta']['values'][-1] for year in uniqe_years]\n",
        "\n",
        "plt.figure(figsize=(10, 4))  # Set figure size for better readability\n",
        "plt.plot(uniqe_years, BETA, 'r--', label='Beta')\n",
        "plt.title('Trend of Beta Over Time', fontsize=16, fontweight='bold')\n",
        "#plt.ylim(0, 0.06)\n",
        "plt.xlabel('Year', fontsize=14)\n",
        "plt.ylabel('Beta', fontsize=14)\n",
        "plt.grid(True, linestyle='--', alpha=0.6)\n",
        "plt.show()\n",
        "\n",
        "plt.figure(figsize=(10, 4))  # Set figure size for better readability\n",
        "plt.plot(uniqe_years, ALPHA, 'r--', label='Alpha')\n",
        "plt.title('Trend of Alpha Over Time', fontsize=16, fontweight='bold')\n",
        "#plt.ylim(0.95, 1)\n",
        "plt.xlabel('Year', fontsize=14)\n",
        "plt.ylabel('Alpha', fontsize=14)\n",
        "plt.grid(True, linestyle='--', alpha=0.6)\n",
        "plt.show()\n"
      ]
    }
  ],
  "metadata": {
    "kernelspec": {
      "display_name": "Python 3",
      "language": "python",
      "name": "python3"
    },
    "language_info": {
      "codemirror_mode": {
        "name": "ipython",
        "version": 3
      },
      "file_extension": ".py",
      "mimetype": "text/x-python",
      "name": "python",
      "nbconvert_exporter": "python",
      "pygments_lexer": "ipython3",
      "version": "3.12.1"
    },
    "colab": {
      "provenance": [],
      "include_colab_link": true
    }
  },
  "nbformat": 4,
  "nbformat_minor": 0
}
